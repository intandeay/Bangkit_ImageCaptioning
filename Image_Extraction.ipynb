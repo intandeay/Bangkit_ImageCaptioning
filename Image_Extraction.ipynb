{
  "nbformat": 4,
  "nbformat_minor": 0,
  "metadata": {
    "colab": {
      "name": "Image Extraction",
      "provenance": [],
      "mount_file_id": "13vjOmnIIu0EqJagT88brt9VwrbySq_QT",
      "authorship_tag": "ABX9TyMAEGoAWOAbXPCo4aU17Ato",
      "include_colab_link": true
    },
    "kernelspec": {
      "name": "python3",
      "display_name": "Python 3"
    }
  },
  "cells": [
    {
      "cell_type": "markdown",
      "metadata": {
        "id": "view-in-github",
        "colab_type": "text"
      },
      "source": [
        "<a href=\"https://colab.research.google.com/github/intandeay/Bangkit_ImageCaptioning/blob/master/Image_Extraction.ipynb\" target=\"_parent\"><img src=\"https://colab.research.google.com/assets/colab-badge.svg\" alt=\"Open In Colab\"/></a>"
      ]
    },
    {
      "cell_type": "code",
      "metadata": {
        "id": "u8B0GpglHpFV",
        "colab_type": "code",
        "colab": {}
      },
      "source": [
        "import tensorflow as tf\n",
        "import numpy as np\n",
        "from keras.preprocessing import image\n",
        "from tensorflow.keras.applications.inception_v3 import InceptionV3\n",
        "from tensorflow.keras.applications.inception_v3 import preprocess_input\n",
        "import os\n",
        "import pickle"
      ],
      "execution_count": 0,
      "outputs": []
    },
    {
      "cell_type": "code",
      "metadata": {
        "id": "7HcgYwJUH2H1",
        "colab_type": "code",
        "outputId": "c27db287-9410-4401-948b-77e72c60db03",
        "colab": {
          "base_uri": "https://localhost:8080/",
          "height": 71
        }
      },
      "source": [
        "# folder = \"../input/flickr8k/Flickr_Data/Flickr_Data/Images/\"\n",
        "# images = os.listdir(\"../input/flickr8k/Flickr_Data/Flickr_Data/Images\")"
      ],
      "execution_count": 0,
      "outputs": [
        {
          "output_type": "stream",
          "text": [
            "Downloading data from https://storage.googleapis.com/tensorflow/keras-applications/inception_v3/inception_v3_weights_tf_dim_ordering_tf_kernels.h5\n",
            "96116736/96112376 [==============================] - 2s 0us/step\n"
          ],
          "name": "stdout"
        }
      ]
    },
    {
      "cell_type": "code",
      "metadata": {
        "id": "z6WLSD9KIeaS",
        "colab_type": "code",
        "colab": {}
      },
      "source": [
        "image_model = InceptionV3(weights='imagenet')\n",
        "model_new = tf.keras.Model(image_model.input, image_model.layers[-2].output)"
      ],
      "execution_count": 0,
      "outputs": []
    },
    {
      "cell_type": "markdown",
      "metadata": {
        "id": "XAqywd23JsGL",
        "colab_type": "text"
      },
      "source": [
        "Prepare Image & Extract Feature"
      ]
    },
    {
      "cell_type": "code",
      "metadata": {
        "id": "klFzGk_CGoFA",
        "colab_type": "code",
        "colab": {}
      },
      "source": [
        "img_features = dict()\n",
        "for img in images:\n",
        "    img1 = image.load_img(folder + img, target_size=(299, 299))\n",
        "    x = image.img_to_array(img1)\n",
        "    x = np.expand_dims(x, axis=0)\n",
        "    x = preprocess_input(x)\n",
        "    \n",
        "    fea_x = model_new.predict(x)\n",
        "    fea_x1 = np.reshape(fea_x , fea_x.shape[1])\n",
        "    img_features[img] = fea_x1"
      ],
      "execution_count": 0,
      "outputs": []
    },
    {
      "cell_type": "markdown",
      "metadata": {
        "id": "_G6U5oZIMTpA",
        "colab_type": "text"
      },
      "source": [
        "Save in Pickle"
      ]
    },
    {
      "cell_type": "code",
      "metadata": {
        "id": "ORVHElj2MCiw",
        "colab_type": "code",
        "colab": {}
      },
      "source": [
        "pickle.dump(img_features,open(\"img_extract.pkl\",\"wb\"))"
      ],
      "execution_count": 0,
      "outputs": []
    },
    {
      "cell_type": "code",
      "metadata": {
        "id": "ppWvL-wzMHnb",
        "colab_type": "code",
        "colab": {}
      },
      "source": [
        ""
      ],
      "execution_count": 0,
      "outputs": []
    }
  ]
}